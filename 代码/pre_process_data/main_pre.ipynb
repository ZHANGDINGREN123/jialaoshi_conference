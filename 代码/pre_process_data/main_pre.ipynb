{
 "cells": [
  {
   "cell_type": "code",
   "execution_count": 1,
   "metadata": {},
   "outputs": [],
   "source": [
    "#coding=utf-8\n",
    "import numpy as np\n",
    "import pandas as pd"
   ]
  },
  {
   "cell_type": "code",
   "execution_count": 7,
   "metadata": {},
   "outputs": [
    {
     "name": "stdout",
     "output_type": "stream",
     "text": [
      "[[ 0.69131273  0.62795222         nan  0.86645776  0.64781886]\n",
      " [ 0.69271284  0.62114477         nan  0.86632442  0.64795774]\n",
      " [ 0.69597971  0.61461514         nan  0.86632442  0.64809668]\n",
      " ..., \n",
      " [ 0.80212015  0.80188942         nan  0.89392626  0.59572101]\n",
      " [ 0.80205345  0.80202836         nan  0.89379293  0.59585994]\n",
      " [ 0.80192012  0.8021673          nan  0.89365959  0.59613782]] (149600, 5) 149600 5 float32\n"
     ]
    }
   ],
   "source": [
    "df = pd.read_csv(\"../1.csv\", names=['one_node_longitude', 'one_node_latitude', 'kongbai', 'two_node_longitude', 'two_node_latitude'])\n",
    "# print (df)\n",
    "# print (df['one_node_longitu de'])\n",
    "# dataframe to matrix\n",
    "df_matrix= df.as_matrix()\n",
    "# float64 to float32\n",
    "df_matrix_f32 = np.float32(df_matrix)\n",
    "print (df_matrix_f32, df_matrix_f32.shape, df_matrix_f32.shape[0], df_matrix_f32.shape[1],df_matrix_f32.dtype,)"
   ]
  },
  {
   "cell_type": "code",
   "execution_count": 99,
   "metadata": {},
   "outputs": [
    {
     "name": "stdout",
     "output_type": "stream",
     "text": [
      "((191488, 2), array([[ 1.,  0.],\n",
      "       [ 1.,  0.],\n",
      "       [ 1.,  0.],\n",
      "       ..., \n",
      "       [ 0.,  1.],\n",
      "       [ 0.,  1.],\n",
      "       [ 0.,  1.]]))\n"
     ]
    }
   ],
   "source": [
    "# 切片\n",
    "def get_train_data(scale = 0.8):\n",
    "    x_train_input1 = df_matrix_f32[0:95744, 0:2]\n",
    "    a1 = np.ones(95744)[np.newaxis]\n",
    "    b1 = np.zeros(95744)[np.newaxis]\n",
    "    c1 = np.vstack((a1, b1))\n",
    "    x_train_label1 = c1.T\n",
    "    x_train_input2 = df_matrix_f32[0:95744:, 3:]\n",
    "    a2 = np.ones(95744)[np.newaxis]\n",
    "    b2 = np.zeros(95744)[np.newaxis]\n",
    "    c2 = np.vstack((b2, a2))\n",
    "    x_train_label2 = c2.T\n",
    "    x_train_input = np.vstack((x_train_input1, x_train_input2))\n",
    "    x_train_label = np.vstack((x_train_label1, x_train_label2))\n",
    "    return x_train_input.shape, x_train_label\n",
    "print (get_train_data())"
   ]
  },
  {
   "cell_type": "code",
   "execution_count": 10,
   "metadata": {},
   "outputs": [
    {
     "name": "stdout",
     "output_type": "stream",
     "text": [
      "(107712, 2) (107712, 2)\n",
      "(array([[ 0.76985133,  0.70172268],\n",
      "       [ 0.76985133,  0.70172268],\n",
      "       [ 0.76985133,  0.70186162],\n",
      "       ..., \n",
      "       [ 0.89392626,  0.59572101],\n",
      "       [ 0.89379293,  0.59585994],\n",
      "       [ 0.89365959,  0.59613782]], dtype=float32), array([[ 1.,  0.],\n",
      "       [ 1.,  0.],\n",
      "       [ 1.,  0.],\n",
      "       ..., \n",
      "       [ 0.,  1.],\n",
      "       [ 0.,  1.],\n",
      "       [ 0.,  1.]]))\n"
     ]
    }
   ],
   "source": [
    "def get_test_data(scale = 0.8):\n",
    "    index = (df_matrix_f32.shape[0])*scale\n",
    "    index = np.int(index)\n",
    "    cut_index = index * (1 - scale)\n",
    "    x_test_input1 = df_matrix_f32[95744:, 0:2]\n",
    "#     print (x_train_input1.shape)\n",
    "    a1 = np.ones(53856)[np.newaxis]\n",
    "    b1 = np.zeros(53856)[np.newaxis]\n",
    "    c1 = np.vstack((a1, b1))\n",
    "    x_test_label1 = c1.T\n",
    "    x_test_input2 = df_matrix_f32[95744:, 3:]\n",
    "    a2 = np.ones(53856)[np.newaxis]\n",
    "    b2 = np.zeros(53856)[np.newaxis]\n",
    "    c2 = np.vstack((b2, a2))\n",
    "    x_test_label2 = c2.T\n",
    "    x_test_input = np.vstack((x_test_input1, x_test_input2))\n",
    "    x_test_label = np.vstack((x_test_label1, x_test_label2))\n",
    "    print (x_test_input.shape, x_test_label.shape)\n",
    "    return x_test_input, x_test_label\n",
    "print (get_test_data())"
   ]
  },
  {
   "cell_type": "code",
   "execution_count": 94,
   "metadata": {},
   "outputs": [
    {
     "name": "stdout",
     "output_type": "stream",
     "text": [
      "(7,)\n",
      "[ 0.  0.  0.  0.  0.  0.  0.  1.  1.  1.] (10,)\n"
     ]
    }
   ],
   "source": [
    "tensor1 = np.zeros(7)\n",
    "tensor2 = np.ones(3)\n",
    "print(tensor1.shape)\n",
    "tensor = np.hstack((tensor1, tensor2))\n",
    "print(tensor, tensor.shape)"
   ]
  },
  {
   "cell_type": "code",
   "execution_count": 92,
   "metadata": {},
   "outputs": [
    {
     "name": "stdout",
     "output_type": "stream",
     "text": [
      "[[ 0.  0.  0.  0.  0.  0.  0.  1.  1.  1.]] 10\n",
      "0.0\n",
      "0.0\n",
      "0.0\n",
      "0.0\n",
      "0.0\n",
      "0.0\n",
      "0.0\n",
      "1.0\n",
      "1.0\n",
      "1.0\n",
      "0.3\n"
     ]
    }
   ],
   "source": [
    "tensor = tensor[np.newaxis]\n",
    "a = 0\n",
    "print (tensor, len(tensor[0]))\n",
    "for i in range(len(tensor[0])):\n",
    "    print(tensor[0][i])\n",
    "    if tensor[0][i] == 1:     \n",
    "        a = a + 1\n",
    "print(a/len(tensor[0]))"
   ]
  },
  {
   "cell_type": "code",
   "execution_count": 96,
   "metadata": {},
   "outputs": [
    {
     "name": "stdout",
     "output_type": "stream",
     "text": [
      "[[ 1.  1.  1.  1.  1.  1.  1.  1.  1.  1.]] (1, 10)\n",
      "1.0\n"
     ]
    }
   ],
   "source": [
    "    tensor = np.ones((1,10))\n",
    "    a = 0\n",
    "    print (tensor, tensor.shape)\n",
    "    for i in range(tensor.shape[0]):\n",
    "        print(tensor[0][i])\n",
    "        if tensor[0][i] == 1:\n",
    "            a = a + 1\n",
    " \n"
   ]
  },
  {
   "cell_type": "code",
   "execution_count": 98,
   "metadata": {},
   "outputs": [
    {
     "name": "stdout",
     "output_type": "stream",
     "text": [
      "[[ 1.  1.  1.  1.  1.  1.  1.  1.  1.  1.]] (1, 10)\n",
      "1.0\n",
      "0.1\n"
     ]
    }
   ],
   "source": [
    "def accurances(tensor = np.ones((1,10))):\n",
    "    a = 0\n",
    "    print (tensor, tensor.shape)\n",
    "    for i in range(tensor.shape[0]):\n",
    "        print(tensor[0][i])\n",
    "        if tensor[0][i] == 1:\n",
    "            a = a + 1\n",
    "    return a / len(tensor[0])\n",
    "print(accurances())"
   ]
  },
  {
   "cell_type": "code",
   "execution_count": null,
   "metadata": {},
   "outputs": [],
   "source": []
  }
 ],
 "metadata": {
  "kernelspec": {
   "display_name": "Python 2",
   "language": "python",
   "name": "python2"
  },
  "language_info": {
   "codemirror_mode": {
    "name": "ipython",
    "version": 3
   },
   "file_extension": ".py",
   "mimetype": "text/x-python",
   "name": "python",
   "nbconvert_exporter": "python",
   "pygments_lexer": "ipython3",
   "version": "3.5.2"
  }
 },
 "nbformat": 4,
 "nbformat_minor": 2
}
